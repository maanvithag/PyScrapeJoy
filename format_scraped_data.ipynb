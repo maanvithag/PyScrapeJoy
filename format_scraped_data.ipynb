{
 "cells": [
  {
   "attachments": {},
   "cell_type": "markdown",
   "metadata": {},
   "source": [
    "Cigna Data: Formatting scraped raw data"
   ]
  },
  {
   "cell_type": "code",
   "execution_count": 6,
   "metadata": {},
   "outputs": [],
   "source": [
    "# import libraries\n",
    "import pandas as pd\n",
    "import json\n",
    "import os"
   ]
  },
  {
   "cell_type": "code",
   "execution_count": 7,
   "metadata": {},
   "outputs": [
    {
     "name": "stdout",
     "output_type": "stream",
     "text": [
      "Number of JSON files read: 45\n"
     ]
    }
   ],
   "source": [
    "# Read all JSON files in the given directory into a list\n",
    "dir_path = './data_dump/'\n",
    "\n",
    "# initialize list\n",
    "raw_data = []\n",
    "\n",
    "for file_name in os.listdir(dir_path):\n",
    "    file_path = os.path.join(dir_path, file_name)\n",
    "        \n",
    "    # Read the JSON file\n",
    "    if file_name.endswith('.json'):\n",
    "        with open(file_path, 'rb') as file:\n",
    "            file_data = json.load(file)\n",
    "            raw_data.append(file_data)\n",
    "\n",
    "# Print the length of the contents of the JSON file\n",
    "print(\"Number of JSON files read: \" + str(len(raw_data)))"
   ]
  },
  {
   "cell_type": "code",
   "execution_count": 8,
   "metadata": {},
   "outputs": [
    {
     "name": "stdout",
     "output_type": "stream",
     "text": [
      "Total number of items from all files: 900\n"
     ]
    }
   ],
   "source": [
    "# combine json data from all files\n",
    "raw_data_combined = []\n",
    "\n",
    "for file_data in raw_data:\n",
    "    for item in file_data:\n",
    "        raw_data_combined.append(item)\n",
    "\n",
    "print(\"Total number of items from all files: \" + str(len(raw_data_combined)))"
   ]
  },
  {
   "cell_type": "code",
   "execution_count": 11,
   "metadata": {},
   "outputs": [
    {
     "name": "stdout",
     "output_type": "stream",
     "text": [
      "Total number of unique providers: 763\n"
     ]
    }
   ],
   "source": [
    "# Format raw data scraped\n",
    "raw_data_dict = {}\n",
    "\n",
    "for doctor in raw_data_combined:\n",
    "    key = doctor['providerId']\n",
    "    \n",
    "    # extract from dict\n",
    "    # name\n",
    "    name = doctor['name'] if 'name' in doctor.keys() else None\n",
    "    # typeCode\n",
    "    type_code = doctor['typeCode'] if 'typeCode' in doctor.keys() else None\n",
    "    # typeDescription\n",
    "    type_desc = doctor['typeDescription'] if 'typeDescription' in doctor.keys() else None\n",
    "    # age\n",
    "    age = doctor['age'] if 'age' in doctor.keys() else None\n",
    "    # genderCode\n",
    "    gender_code = doctor['genderCode'] if 'genderCode' in doctor.keys() else None\n",
    "    \n",
    "    value = {\n",
    "        'name': name, \n",
    "        'typeCode': type_code,\n",
    "        'typeDescription': type_desc,\n",
    "        'age': age,\n",
    "        'gender': gender_code\n",
    "        }\n",
    "    raw_data_dict[key] = value\n",
    "\n",
    "print(\"Total number of unique providers: \" + str(len(raw_data_dict)))"
   ]
  },
  {
   "cell_type": "code",
   "execution_count": 12,
   "metadata": {},
   "outputs": [
    {
     "name": "stdout",
     "output_type": "stream",
     "text": [
      "                                name typeCode typeDescription age gender\n",
      "doctor_id                                                               \n",
      "5604326        Hersch L. Pachter, MD        P       Physician  77      M\n",
      "4335122       Vamsidhar Velcheti, MD        P       Physician  43      M\n",
      "9601287            Colin S. Hill, MD        P       Physician  33      M\n",
      "1452769          Bhavana Pothuri, MD        P       Physician  51      F\n",
      "7009074    Catherine R. Weinberg, MD        P       Physician  49      F\n",
      "...                              ...      ...             ...  ..    ...\n",
      "4867600         Mark S. Nachamie, MD        P       Physician  67      M\n",
      "6228458             Edwin K. Joe, MD        P       Physician  52      M\n",
      "5941139       Timothy T. Roberts, MD        P       Physician  38      M\n",
      "4013848             Olga Petryna, MD        P       Physician  41      F\n",
      "7459704                Alan Shah, MD        P       Physician  52      M\n",
      "\n",
      "[763 rows x 5 columns]\n"
     ]
    }
   ],
   "source": [
    "# create a dataframe for the above dict\n",
    "doctors_df = pd.DataFrame.from_dict(raw_data_dict, orient='index').rename_axis('doctor_id')\n",
    "\n",
    "print(doctors_df)"
   ]
  }
 ],
 "metadata": {
  "kernelspec": {
   "display_name": "venv39",
   "language": "python",
   "name": "python3"
  },
  "language_info": {
   "codemirror_mode": {
    "name": "ipython",
    "version": 3
   },
   "file_extension": ".py",
   "mimetype": "text/x-python",
   "name": "python",
   "nbconvert_exporter": "python",
   "pygments_lexer": "ipython3",
   "version": "3.9.17"
  },
  "orig_nbformat": 4,
  "vscode": {
   "interpreter": {
    "hash": "85d1a1621e752be0522a68df678cde16c8b29a6af45b6bec3aac14d3e58c77b0"
   }
  }
 },
 "nbformat": 4,
 "nbformat_minor": 2
}
